{
 "cells": [
  {
   "cell_type": "markdown",
   "id": "8daaf7cf",
   "metadata": {},
   "source": [
    "# Today's dollar Price"
   ]
  },
  {
   "cell_type": "code",
   "execution_count": 4,
   "id": "4ddbcea4",
   "metadata": {},
   "outputs": [],
   "source": [
    "url = \"https://www.xe.com/currencyconverter/convert/?Amount=1&From=USD&To=INR\""
   ]
  },
  {
   "cell_type": "code",
   "execution_count": 5,
   "id": "7f63e3e8",
   "metadata": {},
   "outputs": [],
   "source": [
    "import requests\n",
    "from bs4 import BeautifulSoup"
   ]
  },
  {
   "cell_type": "code",
   "execution_count": 6,
   "id": "a3e7e3b6",
   "metadata": {},
   "outputs": [
    {
     "data": {
      "text/plain": [
       "<Response [200]>"
      ]
     },
     "execution_count": 6,
     "metadata": {},
     "output_type": "execute_result"
    }
   ],
   "source": [
    "requests.get(url)"
   ]
  },
  {
   "cell_type": "code",
   "execution_count": 7,
   "id": "4b45de8b",
   "metadata": {},
   "outputs": [],
   "source": [
    "Data = requests.get(url)"
   ]
  },
  {
   "cell_type": "code",
   "execution_count": 8,
   "id": "ddfffef8",
   "metadata": {},
   "outputs": [],
   "source": [
    "Data.content"
   ]
  },
  {
   "cell_type": "code",
   "execution_count": null,
   "id": "ad23a887",
   "metadata": {},
   "outputs": [],
   "source": [
    "BeautifulSoup(Data.content)"
   ]
  },
  {
   "cell_type": "code",
   "execution_count": 10,
   "id": "c0781689",
   "metadata": {},
   "outputs": [],
   "source": [
    "soup = BeautifulSoup(Data.content)"
   ]
  },
  {
   "cell_type": "code",
   "execution_count": 11,
   "id": "f261e661",
   "metadata": {},
   "outputs": [
    {
     "data": {
      "text/plain": [
       "[<p class=\"result__BigRate-sc-1bsijpp-1 iGrAod\">82.90<span class=\"faded-digits\">517</span> Indian Rupees</p>]"
      ]
     },
     "execution_count": 11,
     "metadata": {},
     "output_type": "execute_result"
    }
   ],
   "source": [
    "soup.find_all(\"p\",class_=\"result__BigRate-sc-1bsijpp-1 iGrAod\")"
   ]
  },
  {
   "cell_type": "code",
   "execution_count": 12,
   "id": "24edbdcb",
   "metadata": {},
   "outputs": [
    {
     "data": {
      "text/plain": [
       "<p class=\"result__BigRate-sc-1bsijpp-1 iGrAod\">82.90<span class=\"faded-digits\">517</span> Indian Rupees</p>"
      ]
     },
     "execution_count": 12,
     "metadata": {},
     "output_type": "execute_result"
    }
   ],
   "source": [
    "soup.find_all(\"p\",class_=\"result__BigRate-sc-1bsijpp-1 iGrAod\")[0]"
   ]
  },
  {
   "cell_type": "code",
   "execution_count": 13,
   "id": "2f148bed",
   "metadata": {},
   "outputs": [
    {
     "data": {
      "text/plain": [
       "'82.90517 Indian Rupees'"
      ]
     },
     "execution_count": 13,
     "metadata": {},
     "output_type": "execute_result"
    }
   ],
   "source": [
    "soup.find_all(\"p\",class_=\"result__BigRate-sc-1bsijpp-1 iGrAod\")[0].text"
   ]
  },
  {
   "cell_type": "code",
   "execution_count": 14,
   "id": "9e45859a",
   "metadata": {},
   "outputs": [
    {
     "data": {
      "text/plain": [
       "['82.90517', 'Indian', 'Rupees']"
      ]
     },
     "execution_count": 14,
     "metadata": {},
     "output_type": "execute_result"
    }
   ],
   "source": [
    "q = soup.find_all(\"p\",class_=\"result__BigRate-sc-1bsijpp-1 iGrAod\")[0].text\n",
    "q1 = q.split(\" \")\n",
    "q1"
   ]
  },
  {
   "cell_type": "code",
   "execution_count": 15,
   "id": "57f10adb",
   "metadata": {},
   "outputs": [],
   "source": [
    "inr_val = float(q1[0])"
   ]
  },
  {
   "cell_type": "code",
   "execution_count": 16,
   "id": "7904181a",
   "metadata": {},
   "outputs": [
    {
     "data": {
      "text/plain": [
       "82.90517"
      ]
     },
     "execution_count": 16,
     "metadata": {},
     "output_type": "execute_result"
    }
   ],
   "source": [
    "inr_val"
   ]
  },
  {
   "cell_type": "code",
   "execution_count": null,
   "id": "dad01534",
   "metadata": {},
   "outputs": [],
   "source": []
  },
  {
   "cell_type": "markdown",
   "id": "b03e680d",
   "metadata": {},
   "source": [
    "## Define Function"
   ]
  },
  {
   "cell_type": "code",
   "execution_count": 49,
   "id": "43c222c9",
   "metadata": {},
   "outputs": [],
   "source": [
    "def get_doller_price():\n",
    "    url = \"https://www.xe.com/currencyconverter/convert/?Amount=1&From=USD&To=INR\"\n",
    "    import requests\n",
    "    from bs4 import BeautifulSoup\n",
    "    data = requests.get(url)\n",
    "    soup = BeautifulSoup(data.content)\n",
    "    q = soup.find_all(\"p\",class_=\"result__BigRate-sc-1bsijpp-1 iGrAod\")[0].text\n",
    "    q = q.split(\" \")\n",
    "    inr_val = float(q1[0])\n",
    "    return inr_val"
   ]
  },
  {
   "cell_type": "code",
   "execution_count": 50,
   "id": "2bc861ff",
   "metadata": {},
   "outputs": [
    {
     "data": {
      "text/plain": [
       "81.777981"
      ]
     },
     "execution_count": 50,
     "metadata": {},
     "output_type": "execute_result"
    }
   ],
   "source": [
    "get_doller_price()"
   ]
  }
 ],
 "metadata": {
  "kernelspec": {
   "display_name": "Python 3 (ipykernel)",
   "language": "python",
   "name": "python3"
  },
  "language_info": {
   "codemirror_mode": {
    "name": "ipython",
    "version": 3
   },
   "file_extension": ".py",
   "mimetype": "text/x-python",
   "name": "python",
   "nbconvert_exporter": "python",
   "pygments_lexer": "ipython3",
   "version": "3.9.7"
  }
 },
 "nbformat": 4,
 "nbformat_minor": 5
}
