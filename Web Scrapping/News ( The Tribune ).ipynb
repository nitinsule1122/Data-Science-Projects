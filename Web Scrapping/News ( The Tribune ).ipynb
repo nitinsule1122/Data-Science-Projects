{
 "cells": [
  {
   "cell_type": "markdown",
   "id": "58f84843",
   "metadata": {},
   "source": [
    "# News Heading and Descriptions  ( The Tribune ) "
   ]
  },
  {
   "cell_type": "code",
   "execution_count": 11,
   "id": "1108dcf3",
   "metadata": {},
   "outputs": [],
   "source": [
    "url = \"https://www.tribuneindia.com/news/nation/shiv-sena-summons-16-rebel-mlas-including-eknath-shinde-406956\""
   ]
  },
  {
   "cell_type": "code",
   "execution_count": 12,
   "id": "66516018",
   "metadata": {},
   "outputs": [],
   "source": [
    "import requests\n",
    "from bs4 import BeautifulSoup"
   ]
  },
  {
   "cell_type": "code",
   "execution_count": 13,
   "id": "d31760b3",
   "metadata": {},
   "outputs": [
    {
     "data": {
      "text/plain": [
       "<Response [200]>"
      ]
     },
     "execution_count": 13,
     "metadata": {},
     "output_type": "execute_result"
    }
   ],
   "source": [
    "requests.get(url)"
   ]
  },
  {
   "cell_type": "code",
   "execution_count": 17,
   "id": "b6bcb203",
   "metadata": {},
   "outputs": [],
   "source": [
    "data = requests.get(url)\n",
    "\n",
    "BeautifulSoup(data.content)\n",
    "\n",
    "soup =BeautifulSoup(data.content)"
   ]
  },
  {
   "cell_type": "code",
   "execution_count": 24,
   "id": "190b8c27",
   "metadata": {},
   "outputs": [
    {
     "data": {
      "text/plain": [
       "'Shiv Sena summons 16 rebel MLAs, including Eknath Shinde'"
      ]
     },
     "execution_count": 24,
     "metadata": {},
     "output_type": "execute_result"
    }
   ],
   "source": [
    "soup.find_all(\"h1\")[0].text"
   ]
  },
  {
   "cell_type": "code",
   "execution_count": 26,
   "id": "1513e21e",
   "metadata": {},
   "outputs": [],
   "source": [
    "Q = \" \"\n",
    "\n",
    "for i in soup.find_all(\"div\",class_=\"story-desc\"):\n",
    "    for j in i.find_all(\"p\"):\n",
    "        Q = Q + j.text"
   ]
  },
  {
   "cell_type": "code",
   "execution_count": 27,
   "id": "7f0388e9",
   "metadata": {},
   "outputs": [
    {
     "data": {
      "text/plain": [
       "' \\nTribune News Service\\n\\n\\n\\nNew Delhi, June 25Amid the buzz that rebel Shiv Sena leader Eknath Shinde had taken a flight to Vadodara last night to meet BJP leader Devendra Fadnavis, the ongoing fracas in Maharashtra took another dramatic turn today.The Shiv Sena national executive passed a resolution authorising Maharashtra Chief Minister Uddhav Thackeray to take action against “all those who have betrayed the party”.The executive, however, refrained from taking immediate action against Shinde.It also passed a resolution that no other political outfit could use the party’s name and that of its founder Bal Thackeray. This, after rebels indicated forming a new party called Shiv Sena (Balasaheb), claiming they were not joining the BJP.The battle for the control of the Shiv Sena between party president Uddhav and rebel leader Shinde played out on the streets with cadres loyal to the Thackerays staging protests against the rebels, defacing their banners, hurling stones and vandalising the office of an MLA. Sena leader Sanjay Raut said: “The executive decided that the party belongs to Bal Thackeray and is committed to taking forward his ideology of ‘Hindutva’ and Marathi pride. The party passed a resolution, giving the powers to to Shiv Sena chief Uddhav Thackeray for intitiating action against those who have betrayed the party.” The Maharashtra legislature secretariat issued “summons” to 16 rebel MLAs, including Shinde, seeking their written replies by June 27 evening to the Shiv Sena complaint seeking their disqualification. The no-confidence motion against Deputy Speaker Narhari Zirwal was rejected on the ground of technicalities. Independent MLAs had submitted a fresh petition, sources said.Amid incidents of violence and vandalism reported at properties of those belonging to his faction, Shinde alleged the Maharashtra Government had withdrawn the security cover provided at their residences.The Aghadi government would be responsible if any harm was caused to their family members, rebels said, claiming the security cover had been withdrawn on the orders of Thackeray and Home Minister Dilip Walse-Patil, who termed the allegations “mischievous and false”. “Security of no MLA has been withdrawn. Keeping in view the prevailing situation, the Home Department has decided to provide security at the residence of MLAs to keep their families safe,” Walse-Patil said.With passions running high among supporters on both sides, Raut said, “Shiv Sena means Thackeray.” The anger of his supporters was “natural”, he claimed. “The party cannot be hijacked with such ease. It has been made with our blood and no one can break it with money,” Raut said.Uddhav authorised to take action'"
      ]
     },
     "execution_count": 27,
     "metadata": {},
     "output_type": "execute_result"
    }
   ],
   "source": [
    "Q"
   ]
  },
  {
   "cell_type": "code",
   "execution_count": 32,
   "id": "28043245",
   "metadata": {},
   "outputs": [],
   "source": [
    "def tribune(url):\n",
    "    import requests\n",
    "    from bs4 import BeautifulSoup\n",
    "    data = requests.get(url)\n",
    "    soup = BeautifulSoup(data.content)\n",
    "    Q = \"\"\n",
    "    for i in soup.find_all(\"div\",class_=\"story-desc\"):\n",
    "        for j in i.find_all(\"p\"):\n",
    "            Q = Q + j.text[25:]\n",
    "    h = soup.find_all(\"h1\")[0].text\n",
    "    return h,Q"
   ]
  },
  {
   "cell_type": "code",
   "execution_count": 33,
   "id": "74da8773",
   "metadata": {},
   "outputs": [],
   "source": [
    "heading, article = tribune(\"https://www.tribuneindia.com/news/nation/shiv-sena-summons-16-rebel-mlas-including-eknath-shinde-406956\")"
   ]
  },
  {
   "cell_type": "code",
   "execution_count": 34,
   "id": "705a5bc6",
   "metadata": {},
   "outputs": [
    {
     "data": {
      "text/plain": [
       "'Shiv Sena summons 16 rebel MLAs, including Eknath Shinde'"
      ]
     },
     "execution_count": 34,
     "metadata": {},
     "output_type": "execute_result"
    }
   ],
   "source": [
    "heading"
   ]
  },
  {
   "cell_type": "code",
   "execution_count": 35,
   "id": "fda71d57",
   "metadata": {},
   "outputs": [
    {
     "data": {
      "text/plain": [
       "'Shiv Sena leader Eknath Shinde had taken a flight to Vadodara last night to meet BJP leader Devendra Fadnavis, the ongoing fracas in Maharashtra took another dramatic turn today.ecutive passed a resolution authorising Maharashtra Chief Minister Uddhav Thackeray to take action against “all those who have betrayed the party”.efrained from taking immediate action against Shinde.on that no other political outfit could use the party’s name and that of its founder Bal Thackeray. This, after rebels indicated forming a new party called Shiv Sena (Balasaheb), claiming they were not joining the BJP.l of the Shiv Sena between party president Uddhav and rebel leader Shinde played out on the streets with cadres loyal to the Thackerays staging protests against the rebels, defacing their banners, hurling stones and vandalising the office of an MLA. Sena leader Sanjay Raut said: “The executive decided that the party belongs to Bal Thackeray and is committed to taking forward his ideology of ‘Hindutva’ and Marathi pride. The party passed a resolution, giving the powers to to Shiv Sena chief Uddhav Thackeray for intitiating action against those who have betrayed the party.” The Maharashtra legislature secretariat issued “summons” to 16 rebel MLAs, including Shinde, seeking their written replies by June 27 evening to the Shiv Sena complaint seeking their disqualification. The no-confidence motion against Deputy Speaker Narhari Zirwal was rejected on the ground of technicalities. Independent MLAs had submitted a fresh petition, sources said.e and vandalism reported at properties of those belonging to his faction, Shinde alleged the Maharashtra Government had withdrawn the security cover provided at their residences.ld be responsible if any harm was caused to their family members, rebels said, claiming the security cover had been withdrawn on the orders of Thackeray and Home Minister Dilip Walse-Patil, who termed the allegations “mischievous and false”. “Security of no MLA has been withdrawn. Keeping in view the prevailing situation, the Home Department has decided to provide security at the residence of MLAs to keep their families safe,” Walse-Patil said.h among supporters on both sides, Raut said, “Shiv Sena means Thackeray.” The anger of his supporters was “natural”, he claimed. “The party cannot be hijacked with such ease. It has been made with our blood and no one can break it with money,” Raut said. action'"
      ]
     },
     "execution_count": 35,
     "metadata": {},
     "output_type": "execute_result"
    }
   ],
   "source": [
    "article"
   ]
  },
  {
   "cell_type": "code",
   "execution_count": 36,
   "id": "06c564e7",
   "metadata": {},
   "outputs": [],
   "source": [
    "heading, article = tribune(\"https://www.tribuneindia.com/news/world/kim-jong-uns-daughter-unveiled-last-week-is-his-second-child-seoul-453537\")"
   ]
  },
  {
   "cell_type": "code",
   "execution_count": 37,
   "id": "8340641e",
   "metadata": {},
   "outputs": [
    {
     "data": {
      "text/plain": [
       "'Kim Jong Un’s daughter unveiled last week is his second child: Seoul'"
      ]
     },
     "execution_count": 37,
     "metadata": {},
     "output_type": "execute_result"
    }
   ],
   "source": [
    "heading"
   ]
  },
  {
   "cell_type": "code",
   "execution_count": 38,
   "id": "06268c4b",
   "metadata": {},
   "outputs": [
    {
     "data": {
      "text/plain": [
       "\"ean leader Kim Jong Un who was recently seen in public for the first time at a missile launch site is his second child, South Korea's spy agency told lawmakers on Tuesday, as speculation swirled about his motives for bringing her to the attention of the outside world.said Kim observed the launch of the country's most powerful intercontinental ballistic missile -- Hwasong-17 -- the previous day with his wife Ri Sol Ju and their “beloved daughter”.os showing Kim walking hand-in-hand with a young girl clad in a white coat and red shoes past a massive missile placed on a launch truck, and watching a soaring weapon from a distance. at a parliament committee, South Korea's National Intelligence Service, the country's main spy agency, told lawmakers that it assesses the daughter is Kim's second child named Ju Ae, Yoo Sang-bum, one of the lawmakers who attended the meeting, said.attended the NIS briefing, confirmed the substance of Yoo's comments but refused to provide further details.s Kim's child who retired NBA star Dennis Rodman saw during his trip to Pyongyang in 2013. After that Pyongyang visit, Rodman told the British newspaper Guardian that he and Kim had a “relaxing time by the sea” with the leader's family and that he held Kim's baby daughter, named Ju Ae.th Korea officially confirmed her existence. North Korea's state media didn't disclose the age, name and other details of Kim's daughter last week.\\xa0\""
      ]
     },
     "execution_count": 38,
     "metadata": {},
     "output_type": "execute_result"
    }
   ],
   "source": [
    "article"
   ]
  },
  {
   "cell_type": "code",
   "execution_count": 41,
   "id": "2c611fc2",
   "metadata": {},
   "outputs": [],
   "source": [
    "heading, article = tribune(\"https://www.tribuneindia.com/news/nation/committed-to-getting-eric-garcetti-as-us-envoy-to-new-delhi-white-house-453534\")"
   ]
  },
  {
   "cell_type": "code",
   "execution_count": 42,
   "id": "8aaca36c",
   "metadata": {},
   "outputs": [
    {
     "data": {
      "text/plain": [
       "'Committed to getting Eric Garcetti as US envoy to New Delhi: White House'"
      ]
     },
     "execution_count": 42,
     "metadata": {},
     "output_type": "execute_result"
    }
   ],
   "source": [
    "heading"
   ]
  },
  {
   "cell_type": "code",
   "execution_count": 43,
   "id": "09d2e3b7",
   "metadata": {},
   "outputs": [
    {
     "data": {
      "text/plain": [
       "\"is committed to getting Eric Garcetti as the US envoy to New Delhi, the White House has said, hoping that the Senate will confirm his nomination soon.yor of Los Angeles since 2013. He is a close aide of President Joe Biden.t relationship that we have. You saw the President (Biden) greet and meet very briefly with Prime Minister (Narendra) Modi just last week when he was in Bali. So clearly, it's an important relationship that we truly respect,” White House Press Secretary Karine Jean-Pierre told reporters here on Monday.t the presidential nominee for the US Ambassador to India, Garcetti, would be soon confirmed by the Senate. The nomination has been pending before the upper chamber of the US Congress for more than a year now.e are committed to getting him through the process. We're continuing to talk to the Senate about making that happen. That is a priority of ours,” Jean-Pierre said.t Biden nominated Los Angeles Mayor Garcetti as his Ambassador to India.on of Garcetti has been pending for more than a year now. His nomination was initially blocked by Republican Senator Chuck Grassley because of allegations of inappropriate behaviour by one of his senior staffers.mination has been lifted, the ruling Democrats are reluctant to bring his nomination for confirmation before the full Senate as they think they don't have enough votes for it.hite House had exuded confidence that Garcetti would be confirmed by the Senate.\\xa0\""
      ]
     },
     "execution_count": 43,
     "metadata": {},
     "output_type": "execute_result"
    }
   ],
   "source": [
    "article"
   ]
  },
  {
   "cell_type": "code",
   "execution_count": null,
   "id": "b90b48f1",
   "metadata": {},
   "outputs": [],
   "source": []
  }
 ],
 "metadata": {
  "kernelspec": {
   "display_name": "Python 3 (ipykernel)",
   "language": "python",
   "name": "python3"
  },
  "language_info": {
   "codemirror_mode": {
    "name": "ipython",
    "version": 3
   },
   "file_extension": ".py",
   "mimetype": "text/x-python",
   "name": "python",
   "nbconvert_exporter": "python",
   "pygments_lexer": "ipython3",
   "version": "3.9.7"
  }
 },
 "nbformat": 4,
 "nbformat_minor": 5
}
